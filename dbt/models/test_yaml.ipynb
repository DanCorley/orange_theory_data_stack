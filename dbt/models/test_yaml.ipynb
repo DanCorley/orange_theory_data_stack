{
 "cells": [
  {
   "cell_type": "code",
   "execution_count": 1,
   "metadata": {},
   "outputs": [],
   "source": [
    "from yaml import load, CLoader as Loader"
   ]
  },
  {
   "cell_type": "code",
   "execution_count": 69,
   "metadata": {},
   "outputs": [
    {
     "data": {
      "text/plain": [
       "[[{'name': 'member_uuid',\n",
       "   'data_tests': [{'relationships': {'to': \"ref('me')\",\n",
       "      'field': 'member_uuid'}}]},\n",
       "  {'name': 'dlt_parent_id',\n",
       "   'data_tests': [{'relationships': {'to': \"ref('heart_rate')\",\n",
       "      'field': 'dlt_record_id'}}]}]]"
      ]
     },
     "execution_count": 69,
     "metadata": {},
     "output_type": "execute_result"
    }
   ],
   "source": [
    "with open('schema.yml') as f:\n",
    "  output = load(f, Loader=Loader)\n",
    "\n",
    "[x['columns'] for x in output['models'] if x['name'] == 'heart_rate__history']"
   ]
  },
  {
   "cell_type": "code",
   "execution_count": 14,
   "metadata": {},
   "outputs": [],
   "source": [
    "from dlt.sources.rest_api import RESTAPIConfig, rest_api_resources\n",
    "\n",
    "config = {\n",
    "    \"client\": {\n",
    "        \"base_url\": \"\",\n",
    "    },\n",
    "    \"resource_defaults\": {\n",
    "        \"primary_key\": \"id\",\n",
    "        \"write_disposition\": \"replace\",\n",
    "        \"table_format\": \"delta\",\n",
    "    },\n",
    "    \"resources\": [\n",
    "        {\n",
    "            \"name\": \"me\",\n",
    "            \"endpoint\": {\n",
    "                \"path\": \"https://api.orangetheory.io/v1/people/me\",\n",
    "                \"paginator\": \"single_page\",\n",
    "            },\n",
    "        },\n",
    "        {\n",
    "            \"name\": \"bookings\",\n",
    "            \"processing_steps\": [\n",
    "                # make sure we have a workout key to resolve further endpoints\n",
    "            ],\n",
    "            \"endpoint\": {\n",
    "                \"data_selector\": \"items\",\n",
    "                \"path\": \"https://api.orangetheory.io/v1/bookings/me\",\n",
    "                \"paginator\": \"single_page\",\n",
    "                \"params\": {\n",
    "                    \"include_canceled\": \"false\",\n",
    "                },\n",
    "            },\n",
    "        },\n",
    "        {\n",
    "            \"name\": \"performance_summaries\",\n",
    "            \"include_from_parent\": [\"id\"],\n",
    "            \"endpoint\": {\n",
    "                \"path\": \"https://api.orangetheory.io/v1/performance-summaries/{id}\",\n",
    "                \"paginator\": \"single_page\",\n",
    "                \"params\": {\n",
    "                    \"id\": {\n",
    "                        \"type\": \"resolve\",\n",
    "                        \"resource\": \"bookings\",\n",
    "                        \"field\": \"workout.id\",\n",
    "                    },\n",
    "                },\n",
    "                \"response_actions\": [\n",
    "                    {\"status_code\": 204, \"action\": \"ignore\"}\n",
    "                ],\n",
    "            },\n",
    "        },\n",
    "        {\n",
    "            \"name\": \"body_composition\",\n",
    "            \"primary_key\": \"scanResultUUId\",\n",
    "            \"endpoint\": {\n",
    "                \"path\": \"https://api.orangetheory.co/member/members/87e005b6-5fe4-4852-8192-63ec26e061e6/body-composition\",\n",
    "                \"paginator\": \"single_page\",\n",
    "            }\n",
    "        },\n",
    "        {\n",
    "            \"name\": \"heart_rate\",\n",
    "            \"primary_key\": \"memberUuid\",\n",
    "            \"endpoint\": {\n",
    "                \"path\": \"https://api.yuzu.orangetheory.com/v1/physVars/maxHr/history?memberUuid=87e005b6-5fe4-4852-8192-63ec26e061e6\",\n",
    "                \"paginator\": \"single_page\",\n",
    "                \"data_selector\": \"$\",\n",
    "            },\n",
    "        },\n",
    "        {\n",
    "            \"name\": \"telemetry\",\n",
    "            \"primary_key\": \"classHistoryUuid\",\n",
    "            \"include_from_parent\": [\"id\"],\n",
    "            \"endpoint\": {\n",
    "                \"path\": \"https://api.yuzu.orangetheory.com/v1/performance/summary?classHistoryUuid={id}\",\n",
    "                \"paginator\": \"single_page\",\n",
    "                \"data_selector\": \"$\",\n",
    "                \"params\": {\n",
    "                    \"id\": {\n",
    "                        \"type\": \"resolve\",\n",
    "                        \"resource\": \"bookings\",\n",
    "                        \"field\": \"workout.id\",\n",
    "                    },\n",
    "                    \"maxDataPoints\": 720\n",
    "                },\n",
    "            },\n",
    "        },\n",
    "        # {\n",
    "        #     \"name\": \"challenges\",\n",
    "        #     \"endpoint\": {\n",
    "        #         \"path\": \"https://api.orangetheory.co/challenges/v3.1/member/87e005b6-5fe4-4852-8192-63ec26e061e6\",\n",
    "        #         \"paginator\": \"single_page\",\n",
    "        #         \"data_selector\": \"Dto\",\n",
    "        #         # \"response_actions\": [add_and_remove_fields],\n",
    "        #         # \"primary_key\": \"name\",\n",
    "        #     },\n",
    "        # }\n",
    "    ],\n",
    "}"
   ]
  },
  {
   "cell_type": "code",
   "execution_count": 15,
   "metadata": {},
   "outputs": [
    {
     "data": {
      "text/plain": [
       "[<dlt.extract.resource.DltResource at 0x10e5af0d0>,\n",
       " <dlt.extract.resource.DltResource at 0x10e5af970>,\n",
       " <dlt.extract.resource.DltResource at 0x10e5af6d0>,\n",
       " <dlt.extract.resource.DltResource at 0x10e60d000>,\n",
       " <dlt.extract.resource.DltResource at 0x10e60dab0>,\n",
       " <dlt.extract.resource.DltResource at 0x10e60fe50>]"
      ]
     },
     "execution_count": 15,
     "metadata": {},
     "output_type": "execute_result"
    }
   ],
   "source": [
    "rest_api_resources(config)"
   ]
  }
 ],
 "metadata": {
  "kernelspec": {
   "display_name": ".venv",
   "language": "python",
   "name": "python3"
  },
  "language_info": {
   "codemirror_mode": {
    "name": "ipython",
    "version": 3
   },
   "file_extension": ".py",
   "mimetype": "text/x-python",
   "name": "python",
   "nbconvert_exporter": "python",
   "pygments_lexer": "ipython3",
   "version": "3.10.8"
  }
 },
 "nbformat": 4,
 "nbformat_minor": 2
}
